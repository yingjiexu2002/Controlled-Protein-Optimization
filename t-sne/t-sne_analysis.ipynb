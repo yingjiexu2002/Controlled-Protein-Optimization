{
 "cells": [
  {
   "cell_type": "markdown",
   "metadata": {},
   "source": [
    "# 通过t-sne算法对模型的输出进行降维分析与可视化"
   ]
  },
  {
   "cell_type": "markdown",
   "metadata": {},
   "source": [
    "## 1. 处理模型输出的文件"
   ]
  },
  {
   "cell_type": "code",
   "execution_count": 2,
   "metadata": {},
   "outputs": [],
   "source": [
    "# 导入必要的库\n",
    "import numpy as np\n",
    "import pandas as pd\n",
    "from Bio import SeqIO\n",
    "\n",
    "\n",
    "\n",
    "# family_list = ['PF00959','PF01832', 'PF05838', 'PF06737','PF16754']\n",
    "family_list = ['PF00959']\n",
    "family_dict = {'PF00959':0, 'PF01832':1, 'PF05838':2, 'PF06737':3,'PF16754':4}\n",
    "\n",
    "# 需要选择一定数量的序列，用作t-sne，否则大量的数据进行降维分析时，效果极差\n",
    "natural_sample_num = {'PF00959':190, 'PF01832':280, 'PF05838':70, 'PF06737':130,'PF16754':40}   # PF16754按照比例为4，但是效果不好，所以增加数量\n",
    "generate_sample_num = {'PF00959':250, 'PF01832':250, 'PF05838':250, 'PF06737':250,'PF16754':250}\n"
   ]
  },
  {
   "cell_type": "markdown",
   "metadata": {},
   "source": [
    "处理模型输出的序列"
   ]
  },
  {
   "cell_type": "code",
   "execution_count": null,
   "metadata": {},
   "outputs": [],
   "source": [
    "# 挑选模型困惑度较低的序列\n",
    "# 因为困惑度越低越合理\n",
    "\n",
    "sample_input_dir = \"original_model_output/\"\n",
    "sample_output_dir = \"data/generation_samples/\"\n",
    "p = 0.5\n",
    "\n",
    "for fn in family_list:\n",
    "    code = family_dict[fn]\n",
    "    input_filename = sample_input_dir+\"samples_lora_code_\"+str(code)+\"_\"+str(p)+\".txt\"\n",
    "    df = pd.read_csv(input_filename, header=None, names=['sequence', 'score'])\n",
    "    # 将 'score' 列转换为浮点数\n",
    "    df['score'] = df['score'].astype(float)\n",
    "    # 对 'score' 列进行升序排序\n",
    "    df_sorted = df.sort_values(by='score', ascending=True)\n",
    "    # 删除 'sequence' 列中的重复项\n",
    "    df_sorted_unique = df_sorted.drop_duplicates(subset='sequence')\n",
    "    # 选择前n个数据\n",
    "    df_top = df_sorted_unique.head(generate_sample_num[fn])\n",
    "    # 保存到新的sample文件\n",
    "    output_filename = sample_output_dir + fn + \"_samples.txt\"\n",
    "    df_top.to_csv(output_filename, index=False, header=False)\n"
   ]
  },
  {
   "cell_type": "markdown",
   "metadata": {},
   "source": [
    "处理自然序列"
   ]
  },
  {
   "cell_type": "code",
   "execution_count": 3,
   "metadata": {},
   "outputs": [
    {
     "name": "stdout",
     "output_type": "stream",
     "text": [
      "PF00959家族选择的序列已经保存到文件data/natural_samples/PF00959_samples.txt中，共有190条序列。\n"
     ]
    }
   ],
   "source": [
    "sample_input_dir = \"../dataset/lysozyme_dataset/\"\n",
    "sample_output_dir = \"data/natural_samples/\"\n",
    "\n",
    "def read_seq_from_fasta(input_filename):\n",
    "    sequences = []\n",
    "    with open(input_filename, 'r') as file:\n",
    "        for record in SeqIO.parse(file, 'fasta'):\n",
    "            sequence = str(record.seq)\n",
    "            sequences.append(sequence)\n",
    "    return sequences\n",
    "\n",
    "for fn in family_list:\n",
    "    code = family_dict[fn]\n",
    "    input_filename = sample_input_dir+fn+\".fasta\"\n",
    "    sequences = read_seq_from_fasta(input_filename)\n",
    "    # 保存到输出文件中\n",
    "    output_filename = sample_output_dir + fn + \"_samples.txt\"\n",
    "    # 将当前sequences写入output_filename文件中\n",
    "    with open(output_filename, 'w') as file:\n",
    "        for sequence in sequences[:natural_sample_num[fn]]:\n",
    "            file.write(sequence + '\\n')\n",
    "    print(f\"{fn}家族选择的序列已经保存到文件{output_filename}中，共有{len(sequences[:natural_sample_num[fn]])}条序列。\")"
   ]
  },
  {
   "cell_type": "markdown",
   "metadata": {},
   "source": [
    "## 2. 使用t-sne进行可视化分析"
   ]
  },
  {
   "cell_type": "code",
   "execution_count": null,
   "metadata": {},
   "outputs": [],
   "source": [
    "# 利用训练好的分类模型，将已经选择的序列嵌入为向量\n"
   ]
  }
 ],
 "metadata": {
  "kernelspec": {
   "display_name": "Python 3",
   "language": "python",
   "name": "python3"
  },
  "language_info": {
   "codemirror_mode": {
    "name": "ipython",
    "version": 3
   },
   "file_extension": ".py",
   "mimetype": "text/x-python",
   "name": "python",
   "nbconvert_exporter": "python",
   "pygments_lexer": "ipython3",
   "version": "3.9.18"
  }
 },
 "nbformat": 4,
 "nbformat_minor": 2
}
