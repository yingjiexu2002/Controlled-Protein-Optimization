{
 "cells": [
  {
   "cell_type": "markdown",
   "metadata": {},
   "source": [
    "# 1. 处理鉴别器训练数据"
   ]
  },
  {
   "cell_type": "code",
   "execution_count": 8,
   "metadata": {},
   "outputs": [],
   "source": [
    "import os\n",
    "import random\n",
    "from Bio import SeqIO\n",
    "\n",
    "family_list = ['PF00959', 'PF01832', 'PF05838', 'PF06737','PF16754']"
   ]
  },
  {
   "cell_type": "code",
   "execution_count": 9,
   "metadata": {},
   "outputs": [],
   "source": [
    "def get_sequences_from_fasta(fasta_path):\n",
    "    sequences = []\n",
    "    with open(fasta_path, 'r') as file:\n",
    "        for record in SeqIO.parse(file, 'fasta'):\n",
    "            sequence = str(record.seq)\n",
    "            sequences.append(sequence)\n",
    "    return sequences\n",
    "\n",
    "\n",
    "def get_sequences_from_txt(file_path):\n",
    "    sequences = []\n",
    "    with open(file_path, 'r') as txt:\n",
    "        for line in txt:\n",
    "            # 使用逗号分割每一行，提取序列部分\n",
    "            parts = line.strip().split(',')\n",
    "            if len(parts) >= 1:\n",
    "                sequence = parts[0]\n",
    "                sequences.append(sequence)\n",
    "    return sequences\n",
    "    \n",
    "\n",
    "def write_sequences_to_file(file_path, sequences1, sequences2, label1=0, label2=1):\n",
    "    # 写入到txt文件中并编码\n",
    "    with open(file_path, 'w') as txt:\n",
    "        for sequence in sequences1:\n",
    "            txt.write(f'{sequence},{label1}\\n')\n",
    "        for sequence in sequences2:\n",
    "            txt.write(f'{sequence},{label2}\\n')\n",
    "    print(\"写入成功！\")\n",
    "\n",
    "# 将多个fasta文件合并为一个\n",
    "def merge_fasta(fasta_file1, fasta_file2, fasta_file3, fasta_file4, fasta_file5, merged_file):\n",
    "    records1 = list(SeqIO.parse(fasta_file1, 'fasta'))\n",
    "    print(\"第一个文件序列数：\", len(records1), \"条\")\n",
    "    records2 = list(SeqIO.parse(fasta_file2, 'fasta'))\n",
    "    print(\"第二个文件序列数：\", len(records2), \"条\")\n",
    "    records3 = list(SeqIO.parse(fasta_file3, 'fasta'))\n",
    "    print(\"第三个文件序列数：\", len(records3), \"条\")\n",
    "    records4 = list(SeqIO.parse(fasta_file4, 'fasta'))\n",
    "    print(\"第四个文件序列数：\", len(records4), \"条\")\n",
    "    records5 = list(SeqIO.parse(fasta_file5, 'fasta'))\n",
    "    print(\"第五个文件序列数：\", len(records5), \"条\")\n",
    "    records = records1 + records2 + records3 + records4 + records5\n",
    "    print(\"合并后的序列数：\", len(records), \"条\")\n",
    "    with open(merged_file, 'w') as output:\n",
    "        SeqIO.write(records, output, 'fasta')\n",
    "\n",
    "def split_txt_file(input_file, output_dir, train_ratio=0.8):\n",
    "    with open(input_file, 'r') as f:\n",
    "        lines = f.readlines()\n",
    "    # 打乱顺序\n",
    "    random.shuffle(lines)\n",
    "    # 划分训练集和验证集\n",
    "    train_size = int(len(lines) * train_ratio)\n",
    "    train_lines = lines[:train_size]\n",
    "    val_lines = lines[train_size:]\n",
    "    # 写入训练集文件\n",
    "    train_file = os.path.join(output_dir, 'train.txt')\n",
    "    with open(train_file, 'w') as f:\n",
    "        f.writelines(train_lines)\n",
    "    # 写入验证集文件\n",
    "    val_file = os.path.join(output_dir, 'dev.txt')\n",
    "    with open(val_file, 'w') as f:\n",
    "        f.writelines(val_lines)\n",
    "    print(f\"Train set saved to {train_file}\")\n",
    "    print(f\"Validation set saved to {val_file}\")"
   ]
  },
  {
   "cell_type": "markdown",
   "metadata": {},
   "source": [
    "合并自然序列"
   ]
  },
  {
   "cell_type": "code",
   "execution_count": 3,
   "metadata": {},
   "outputs": [
    {
     "name": "stdout",
     "output_type": "stream",
     "text": [
      "第一个文件序列数： 18623 条\n",
      "第二个文件序列数： 27808 条\n",
      "第三个文件序列数： 6954 条\n",
      "第四个文件序列数： 13237 条\n",
      "第五个文件序列数： 448 条\n",
      "合并后的序列数： 67070 条\n"
     ]
    }
   ],
   "source": [
    "natural_data_dir = \"../dataset/filter_dataset/\"\n",
    "fasta_file1 = natural_data_dir + \"PF00959_filter.fasta\"\n",
    "fasta_file2 = natural_data_dir + \"PF01832_filter.fasta\"\n",
    "fasta_file3 = natural_data_dir + \"PF05838_filter.fasta\"\n",
    "fasta_file4 = natural_data_dir + \"PF06737_filter.fasta\"\n",
    "fasta_file5 = natural_data_dir + \"PF16754_filter.fasta\"\n",
    "merged_file = \"train_test/natural_all_family_samples.fasta\"\n",
    "# 将natural_data_dir目录下的所有fasta文件合并为一个文件\n",
    "merge_fasta(fasta_file1, fasta_file2, fasta_file3, fasta_file4, fasta_file5, merged_file)"
   ]
  },
  {
   "cell_type": "markdown",
   "metadata": {},
   "source": [
    "合并人工序列"
   ]
  },
  {
   "cell_type": "code",
   "execution_count": 4,
   "metadata": {},
   "outputs": [
    {
     "name": "stdout",
     "output_type": "stream",
     "text": [
      "合并后的序列数目： 67074\n"
     ]
    }
   ],
   "source": [
    "num_list = [9312, 13904, 3477, 6620, 224]\n",
    "\n",
    "lora_file_list = [\"../pro-gen_generate/data/disc_samples_lora_code_0_1.0.txt\",\n",
    "                \"../pro-gen_generate/data/disc_samples_lora_code_1_1.0.txt\",\n",
    "                \"../pro-gen_generate/data/disc_samples_lora_code_2_1.0.txt\",\n",
    "                \"../pro-gen_generate/data/disc_samples_lora_code_3_1.0.txt\",\n",
    "                \"../pro-gen_generate/data/disc_samples_lora_code_4_1.0.txt\"]  # 替换为你的文件路径列表\n",
    "progen_file_list = [\"../pro-gen_generate/data/disc_samples_progen_code_0_1.0.txt\",\n",
    "                \"../pro-gen_generate/data/disc_samples_progen_code_1_1.0.txt\",\n",
    "                \"../pro-gen_generate/data/disc_samples_progen_code_2_1.0.txt\",\n",
    "                \"../pro-gen_generate/data/disc_samples_progen_code_3_1.0.txt\",\n",
    "                \"../pro-gen_generate/data/disc_samples_progen_code_4_1.0.txt\"]  # 替换为你的文件路径列表\n",
    "\n",
    "# 根据num_list中的数量，从lora_file_list和progen_file_list中随机抽取相应数量的文件\n",
    "lora_samples = []\n",
    "progen_samples = []\n",
    "for i in range(len(num_list)):\n",
    "    lora_samples += random.sample(get_sequences_from_txt(lora_file_list[i]), num_list[i])\n",
    "    progen_samples += random.sample(get_sequences_from_txt(progen_file_list[i]), num_list[i])\n",
    "\n",
    "# 将lora_samples和progen_samples合并到一个list中\n",
    "all_samples = lora_samples + progen_samples\n",
    "output_file = 'train_test/artificial_all_family_samples.txt'  # 替换为合并后的文件名\n",
    "# 输出合并后的文件序列数目\n",
    "print(\"合并后的序列数目：\", len(all_samples))\n",
    "# 将合并后的文件写入到output_file中\n",
    "with open(output_file, 'w') as output_txt:\n",
    "    for sequence in all_samples:\n",
    "        output_txt.write(f'{sequence}\\n')\n"
   ]
  },
  {
   "cell_type": "markdown",
   "metadata": {},
   "source": [
    "将自然序列和人工序列合并为数据集"
   ]
  },
  {
   "cell_type": "code",
   "execution_count": 5,
   "metadata": {},
   "outputs": [],
   "source": [
    "family_list = ['PF00959', 'PF01832', 'PF05838', 'PF06737','PF16754']\n",
    "\n",
    "txt_file = 'train_test/artificial_all_family_samples.txt'  # 第一个文件名\n",
    "fasta_file = \"train_test/natural_all_family_samples.fasta\"  # 第二个文件名\n",
    "output_file = 'train_test/all_sequences_and_labels.txt'  # 输出文本文件名"
   ]
  },
  {
   "cell_type": "code",
   "execution_count": 6,
   "metadata": {},
   "outputs": [
    {
     "name": "stdout",
     "output_type": "stream",
     "text": [
      "写入成功！\n"
     ]
    }
   ],
   "source": [
    "# 第一个序列为人工序列,label=0\n",
    "sequences1 = get_sequences_from_txt(txt_file)\n",
    "# 第二个序列为自然序列,label=1\n",
    "sequences2 = get_sequences_from_fasta(fasta_file)\n",
    "\n",
    "write_sequences_to_file(output_file, sequences1, sequences2, label1=0, label2=1)"
   ]
  },
  {
   "cell_type": "markdown",
   "metadata": {},
   "source": [
    "划分数据集"
   ]
  },
  {
   "cell_type": "code",
   "execution_count": 7,
   "metadata": {},
   "outputs": [
    {
     "name": "stdout",
     "output_type": "stream",
     "text": [
      "Train set saved to train_test/train.txt\n",
      "Validation set saved to train_test/dev.txt\n"
     ]
    }
   ],
   "source": [
    "# 调用函数进行划分\n",
    "input_file = 'train_test/all_sequences_and_labels.txt'\n",
    "output_dir = 'train_test'   # 训练集和验证集都会输出在这里\n",
    "train_ratio = 0.8  # 指定训练集比例\n",
    "split_txt_file(input_file, output_dir, train_ratio)"
   ]
  },
  {
   "cell_type": "markdown",
   "metadata": {},
   "source": [
    "绘制验证集准确率图像"
   ]
  },
  {
   "cell_type": "code",
   "execution_count": 3,
   "metadata": {},
   "outputs": [],
   "source": [
    "import matplotlib.pyplot as plt\n",
    "import numpy as np\n",
    "\n",
    "# 设置全局字体为times new roman和字体大小\n",
    "plt.rcParams['font.family'] = 'Times New Roman'\n",
    "plt.rcParams['font.size'] = 14\n",
    "\n",
    "x_font_size = 14\n",
    "y_font_size = 14\n",
    "title_font_size = 14\n",
    "legend_font_size = 14\n",
    "\n",
    "color_light_blue = '#389cbc'\n",
    "color_deep_blue = '#2878b5'\n",
    "color_orange = '#D87C7C'"
   ]
  },
  {
   "cell_type": "code",
   "execution_count": 5,
   "metadata": {},
   "outputs": [
    {
     "data": {
      "image/png": "[encoded data removed]",
      "text/plain": [
       "<Figure size 640x480 with 1 Axes>"
      ]
     },
     "metadata": {},
     "output_type": "display_data"
    }
   ],
   "source": [
    "#可视化\n",
    "import pandas as pd\n",
    "#读取csv中指定列的数据\n",
    "data = pd.read_csv('eval_acc.csv')\n",
    "data_acc = data[['evaluating accuracy']]\n",
    "# 横坐标为训练步数，从1000开始，到41000\n",
    "x = range(1000, 42000, 1000)\n",
    "y2 = np.array(data_acc)\n",
    "#绘图\n",
    "plt.plot(x,y2,label=\"accuracy\",color=color_deep_blue)\n",
    "# plt.title(\"Evaluating accuracy\") \n",
    "plt.xlabel('step')\n",
    "plt.ylabel('Acciracy')\n",
    "plt.legend(frameon=False)   #显示标签\n",
    "plt.show()"
   ]
  }
 ],
 "metadata": {
  "kernelspec": {
   "display_name": "progen",
   "language": "python",
   "name": "python3"
  },
  "language_info": {
   "codemirror_mode": {
    "name": "ipython",
    "version": 3
   },
   "file_extension": ".py",
   "mimetype": "text/x-python",
   "name": "python",
   "nbconvert_exporter": "python",
   "pygments_lexer": "ipython3",
   "version": "3.9.17"
  }
 },
 "nbformat": 4,
 "nbformat_minor": 2
}
