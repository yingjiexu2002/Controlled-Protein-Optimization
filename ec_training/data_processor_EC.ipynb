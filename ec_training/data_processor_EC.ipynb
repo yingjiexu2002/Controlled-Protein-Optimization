{
 "cells": [
  {
   "cell_type": "markdown",
   "metadata": {},
   "source": [
    "# 1. 用pd库读取并处理EC_number的csv数据"
   ]
  },
  {
   "cell_type": "markdown",
   "metadata": {},
   "source": [
    "## (1). 读取csv数据"
   ]
  },
  {
   "cell_type": "code",
   "execution_count": 1,
   "metadata": {},
   "outputs": [
    {
     "name": "stdout",
     "output_type": "stream",
     "text": [
      "    Entry  EC number                                           Sequence\n",
      "0  P51451   2.7.10.2  MGLVSSKKPDKEKPIKEKDKGQWSPLKVSAQDKDAPPLPPLVVFNH...\n",
      "1  C7C422    3.5.2.6  MELPNIMHPVAKLSTALAAALMLSGCMPGEIRPTIGQQMETGDQRF...\n",
      "2  Q07457   2.3.2.27  MTAEPATKKIKLELSDPSEPLTQSDVIAFQKEALFRCINRRRVDFE...\n",
      "3  Q07009  3.4.22.53  MAGIAMKLAKDREAAEGLGSHERAIKYLNQDYETLRNECLEAGALF...\n",
      "4  Q9TTH8  3.4.22.54  MPTVISASVAPRTGAEPRSPGPIAQAAQGKGTEAGGGNPSGIYSAI...\n",
      "1022\n",
      "4\n"
     ]
    },
    {
     "data": {
      "image/png": "[encoded data removed]",
      "text/plain": [
       "<Figure size 640x480 with 1 Axes>"
      ]
     },
     "metadata": {},
     "output_type": "display_data"
    }
   ],
   "source": [
    "# 利用pandas库读取csv文件，格式为（Entry\tEC number\tSequence）\n",
    "\n",
    "import pandas as pd\n",
    "import numpy as np\n",
    "import re\n",
    "import os\n",
    "\n",
    "# 读取csv文件\n",
    "df = pd.read_csv('train_data/split100.csv', sep='\\t')\n",
    "print(df.head())\n",
    "\n",
    "# 读取EC number列\n",
    "ec = df['EC number']\n",
    "# 读取Sequence列\n",
    "seq = df['Sequence']\n",
    "# 读取Entry列\n",
    "entry = df['Entry']\n",
    "# 输出Sequence列长度的最大值和最小值\n",
    "print(seq.str.len().max())\n",
    "print(seq.str.len().min())\n",
    "\n",
    "# 绘制Sequence列长度的直方图\n",
    "import matplotlib.pyplot as plt\n",
    "seq.str.len().hist(bins=100)\n",
    "plt.show()\n"
   ]
  },
  {
   "cell_type": "markdown",
   "metadata": {},
   "source": [
    "## (2). 处理不规则的EC number"
   ]
  },
  {
   "cell_type": "code",
   "execution_count": 2,
   "metadata": {},
   "outputs": [
    {
     "name": "stdout",
     "output_type": "stream",
     "text": [
      "1.5.1.5;3.5.4.9;6.3.4.3\n"
     ]
    }
   ],
   "source": [
    "# # 查看split70不规则的EC number，比如第18行\n",
    "# row_18 = df.iloc[17]  # Python 的索引是从 0 开始的，所以第18行实际上是索引 17\n",
    "# print(row_18['EC number'])\n",
    "\n",
    "# 查看split100不规则的EC number，比如第11行\n",
    "row_11 = df.iloc[9]  # Python 的索引是从 0 开始的，且有一行是标题，所以第11行实际上是索引 9\n",
    "print(row_11['EC number'])"
   ]
  },
  {
   "cell_type": "code",
   "execution_count": 3,
   "metadata": {},
   "outputs": [],
   "source": [
    "# 处理上述不规则的EC number，保留其分号前的第一个EC number\n",
    "def process_ec_number(ec_number):\n",
    "    # 如果 'EC number' 包含分号，只保留第一个\n",
    "    if ';' in ec_number:\n",
    "        return ec_number.split(';')[0]\n",
    "    # 否则，直接返回 'EC number'\n",
    "    else:\n",
    "        return ec_number\n",
    "\n",
    "# 对 'EC number' 列应用 process_ec_number 函数\n",
    "df['EC number'] = df['EC number'].apply(process_ec_number)"
   ]
  },
  {
   "cell_type": "code",
   "execution_count": 4,
   "metadata": {},
   "outputs": [
    {
     "name": "stdout",
     "output_type": "stream",
     "text": [
      "1.5.1.5\n"
     ]
    }
   ],
   "source": [
    "# 查看split100不规则的EC number，比如第11行\n",
    "row_11 = df.iloc[9]  # Python 的索引是从 0 开始的，且有一行是标题，所以第11行实际上是索引 9\n",
    "print(row_11['EC number'])"
   ]
  },
  {
   "cell_type": "markdown",
   "metadata": {},
   "source": [
    "## (3). 查看df['EC number']的统计信息"
   ]
  },
  {
   "cell_type": "code",
   "execution_count": 5,
   "metadata": {},
   "outputs": [
    {
     "name": "stdout",
     "output_type": "stream",
     "text": [
      "         Entry EC number                                           Sequence\n",
      "5306    Q0T007   2.7.7.6  MQGSVTEFLKPRLVDIEQVSSTHAKVTLEPLERGFGHTLGNALRRI...\n",
      "5308    B0V8M2   2.7.7.6  MARVTVEDCLDHVDNRFELVLVASKRARQLARQGMEPTVEWDNDKP...\n",
      "5309    B1XSS7   2.7.7.6  MQTNLLKPKIISVEALTANQAKVVMEPFERGYGHTLGNALRRVLLS...\n",
      "5310    P0A7Z9   2.7.7.6  MQGSVTEFLKPRLVDIEQVSSTHAKVTLEPLERGFGHTLGNALRRI...\n",
      "5311    Q15X48   2.7.7.6  MSGSVTEFLKPRLVEIDNVSPTRAKVTLEPLERGFGHTLGNALRRI...\n",
      "...        ...       ...                                                ...\n",
      "169638  Q12WS3   2.7.7.6  MSKFSLLDHELIPHHEIMDEDDLKTVLTHYNVEREQLPKLKVTDPI...\n",
      "169639  B0R4Y7   2.7.7.6  MSDSQHFSRYEKARIIGARALQVAYGAPVLVDTDQTEPILIAAEEY...\n",
      "169640  A9A9V3   2.7.7.6  MKVSSHEMVPTHEIIPREEIPLLLEKYNIKLQQLPKLLDTDPLVLE...\n",
      "171238  O31945   2.7.7.6  MKGKKDGLNKQVHIYSIDTSAFYNDQENKLHNKILKSYRYRDHLRK...\n",
      "222559  Q91FI1   2.7.7.6  MELKNMELKRKLTINEINFIVDFIQPRPYIPPDIENAIIFKKKKGI...\n",
      "\n",
      "[2156 rows x 3 columns]\n"
     ]
    }
   ],
   "source": [
    "# 打印EC number为2.7.7.6的行\n",
    "print(df[df['EC number'] == '2.7.7.6'])"
   ]
  },
  {
   "cell_type": "code",
   "execution_count": 13,
   "metadata": {},
   "outputs": [
    {
     "name": "stdout",
     "output_type": "stream",
     "text": [
      "EC number\n",
      "2.7.7.6     2156\n",
      "7.1.2.2     2149\n",
      "2.7.11.1    2110\n",
      "3.6.4.12    2070\n",
      "5.2.1.8     1486\n",
      "7.1.1.2     1388\n",
      "3.6.4.13    1296\n",
      "2.3.2.27    1191\n",
      "3.1.26.4    1143\n",
      "4.2.1.33    1078\n",
      "5.6.1.7     1060\n",
      "6.1.1.20    1006\n",
      "4.2.1.20    1001\n",
      "2.1.3.15     980\n",
      "4.2.1.11     915\n",
      "2.7.4.3      900\n",
      "4.3.2.10     893\n",
      "6.1.1.17     882\n",
      "6.5.1.2      876\n",
      "6.1.1.14     858\n",
      "Name: count, dtype: int64\n"
     ]
    }
   ],
   "source": [
    "# 统计 'EC number' 列中每个值的出现次数\n",
    "ec_counts = df['EC number'].value_counts()\n",
    "print(ec_counts[:20])"
   ]
  },
  {
   "cell_type": "code",
   "execution_count": 14,
   "metadata": {},
   "outputs": [
    {
     "name": "stdout",
     "output_type": "stream",
     "text": [
      "EC1\n",
      "2    84117\n",
      "3    41696\n",
      "1    28446\n",
      "6    26267\n",
      "4    23900\n",
      "5    14645\n",
      "7     8291\n",
      "Name: count, dtype: int64\n"
     ]
    }
   ],
   "source": [
    "# 以'.'为分隔符，将EC number分为4个部分，分别为EC1、EC2、EC3、EC4，统计每个部分的值的出现次数\n",
    "df['EC1'] = df['EC number'].apply(lambda x: x.split('.')[0])\n",
    "df['EC2'] = df['EC number'].apply(lambda x: x.split('.')[1])\n",
    "df['EC3'] = df['EC number'].apply(lambda x: x.split('.')[2])\n",
    "df['EC4'] = df['EC number'].apply(lambda x: x.split('.')[3])\n",
    "ec1_counts = df['EC1'].value_counts()\n",
    "ec2_counts = df['EC2'].value_counts()\n",
    "ec3_counts = df['EC3'].value_counts()\n",
    "ec4_counts = df['EC4'].value_counts()\n",
    "print(ec1_counts)\n",
    "# print(ec2_counts)\n",
    "# print(ec3_counts)\n",
    "# print(ec4_counts)"
   ]
  },
  {
   "cell_type": "markdown",
   "metadata": {},
   "source": [
    "统计可能出现的标签种类"
   ]
  },
  {
   "cell_type": "code",
   "execution_count": 18,
   "metadata": {},
   "outputs": [
    {
     "name": "stdout",
     "output_type": "stream",
     "text": [
      "第 1 位的数字种类: [1, 2, 3, 4, 5, 6, 7]\n",
      "第 2 位的数字种类: [1, 2, 3, 4, 5, 6, 7, 8, 9, 10, 11, 12, 13, 14, 15, 16, 17, 18, 20, 21, 23, 97, 99]\n",
      "第 3 位的数字种类: [1, 2, 3, 4, 5, 6, 7, 8, 9, 10, 11, 12, 13, 14, 15, 16, 17, 18, 19, 20, 21, 22, 23, 24, 25, 26, 30, 31, 98, 99]\n",
      "第 4 位的数字种类: [1, 2, 3, 4, 5, 6, 7, 8, 9, 10, 11, 12, 13, 14, 15, 16, 17, 18, 19, 20, 21, 22, 23, 24, 25, 26, 27, 28, 29, 30, 31, 32, 33, 34, 35, 36, 37, 38, 39, 40, 41, 42, 43, 44, 45, 46, 47, 48, 49, 50, 51, 52, 53, 54, 55, 56, 57, 58, 59, 60, 61, 62, 63, 64, 65, 66, 67, 68, 69, 70, 71, 72, 73, 74, 75, 76, 77, 78, 79, 80, 81, 82, 83, 84, 85, 86, 87, 88, 89, 90, 91, 92, 93, 94, 95, 96, 97, 98, 99, 100, 101, 102, 103, 104, 105, 106, 107, 108, 109, 110, 111, 112, 113, 114, 115, 116, 117, 118, 119, 120, 121, 122, 123, 124, 125, 126, 127, 128, 129, 130, 131, 132, 133, 134, 135, 136, 137, 138, 139, 140, 141, 142, 143, 144, 145, 146, 147, 148, 149, 150, 151, 152, 153, 154, 155, 156, 157, 158, 159, 160, 161, 162, 163, 164, 165, 166, 167, 168, 169, 170, 171, 172, 173, 174, 175, 176, 177, 178, 179, 180, 181, 182, 183, 184, 185, 186, 187, 188, 189, 190, 191, 192, 193, 194, 195, 196, 197, 198, 199, 200, 201, 202, 203, 204, 205, 206, 207, 208, 209, 210, 211, 212, 213, 214, 215, 216, 217, 218, 219, 220, 221, 222, 223, 224, 225, 226, 227, 228, 229, 230, 231, 232, 233, 234, 235, 236, 237, 238, 239, 240, 241, 242, 243, 244, 245, 246, 247, 248, 249, 250, 251, 252, 253, 254, 255, 256, 257, 258, 259, 260, 261, 262, 263, 264, 265, 266, 267, 268, 269, 270, 271, 272, 273, 274, 275, 276, 277, 278, 279, 280, 281, 282, 283, 284, 285, 286, 287, 288, 289, 290, 291, 292, 293, 294, 295, 296, 297, 298, 299, 300, 301, 302, 303, 304, 305, 306, 307, 308, 309, 310, 311, 312, 313, 314, 315, 316, 317, 318, 319, 320, 321, 322, 323, 324, 325, 326, 327, 328, 329, 330, 331, 332, 333, 334, 335, 336, 337, 338, 339, 340, 341, 342, 343, 344, 345, 346, 347, 348, 349, 350, 351, 352, 353, 354, 355, 356, 357, 358, 359, 360, 361, 362, 363, 364, 365, 366, 367, 368, 369, 370, 371, 372, 373, 374, 375, 376, 377, 381, 382, 383, 384, 385, 386, 387, 388, 389, 390, 391, 392, 393, 394, 395, 397, 398, 399, 400, 401, 402, 403, 404, 405, 406, 407, 408, 409, 410, 411, 412, 413, 414, 415, 418, 420, 421, 424]\n",
      "第 1 位的非数字种类: []\n",
      "第 2 位的非数字种类: []\n",
      "第 3 位的非数字种类: []\n",
      "第 4 位的非数字种类: ['n1', 'n11', 'n12', 'n2', 'n3', 'n4', 'n5', 'n7', 'n8', 'n9']\n"
     ]
    }
   ],
   "source": [
    "# EC number一共4位，统计EC number每一位可能出现的数字种类\n",
    "# 定义一个函数来获取 'EC number' 的每一位\n",
    "def get_digits(ec_number):\n",
    "    return ec_number.split('.')\n",
    "\n",
    "# 对 'EC number' 列应用 get_digits 函数，并将结果转换为 DataFrame\n",
    "digits_df = df['EC number'].apply(get_digits).apply(pd.Series)\n",
    "\n",
    "# 初始化一个空的 set 来存储每一位的种类\n",
    "digits_set = [set() for _ in range(4)]\n",
    "\n",
    "# 遍历每一列，将每一列的值添加到对应的 set 中\n",
    "for i in range(4):\n",
    "    digits_set[i] = digits_set[i].union(digits_df[i].dropna().unique())\n",
    "\n",
    "# 对每一位的种类进行排序，先尝试转换为整数，如果不能转换则忽略\n",
    "digits_number_set = [sorted([int(digit) for digit in digits if digit.isdigit()]) for digits in digits_set]\n",
    "# 打印每一位的数字种类\n",
    "for i, digits in enumerate(digits_number_set):\n",
    "    print(f\"第 {i+1} 位的数字种类: {digits}\")\n",
    "\n",
    "def is_int(s):\n",
    "    try:\n",
    "        int(s)\n",
    "        return True\n",
    "    except ValueError:\n",
    "        return False\n",
    "digits_Un_number_set = [sorted([digit for digit in digits if not is_int(digit)]) for digits in digits_set]\n",
    "# 打印每一位的非数字种类\n",
    "for i, digits in enumerate(digits_Un_number_set):\n",
    "    print(f\"第 {i+1} 位的非数字种类: {digits}\")"
   ]
  },
  {
   "cell_type": "markdown",
   "metadata": {},
   "source": [
    "## (4). 将df数据处理成train_data.p文件"
   ]
  },
  {
   "cell_type": "markdown",
   "metadata": {},
   "source": [
    "处理方法1：将所有的数据都处理成train_data.p文件"
   ]
  },
  {
   "cell_type": "code",
   "execution_count": 35,
   "metadata": {},
   "outputs": [],
   "source": [
    "import pickle\n",
    "# 将df数据的EC number转化为标签，并保存到train_data_ec_label.p文件中\n",
    "# 定义一个函数来转换 'EC number' 和 'Sequence' 列\n",
    "def convert_row(row):\n",
    "    # 将 'EC number' 分割成四个部分\n",
    "    parts = row['EC number'].split('.')\n",
    "    # 创建一个字典\n",
    "    result = {\n",
    "        'EC_number': [f'1_{parts[0]}',f'2_{parts[1]}',f'3_{parts[2]}',f'4_{parts[3]}'],\n",
    "        'seq': row['Sequence']\n",
    "    }\n",
    "    return result\n",
    "\n",
    "# 对 df 应用 convert_row 函数，并将结果转换为字典\n",
    "data = df.apply(convert_row, axis=1).to_dict()\n",
    "\n",
    "txt_file_path = 'data/train_data_ec_label.txt'\n",
    "pickle_file_path = 'data/train_data_ec_label.p'\n",
    "with open(txt_file_path, 'w') as file:\n",
    "    # 遍历字典的键和值\n",
    "    for key, value in data.items():\n",
    "        # 将键和值写入文件\n",
    "        file.write(f'{key}: {value}\\n')\n",
    "\n",
    "# 并写入.pickle文件\n",
    "with open(pickle_file_path, 'wb') as file:\n",
    "    pickle.dump(data, file)"
   ]
  },
  {
   "cell_type": "markdown",
   "metadata": {},
   "source": [
    "处理方法2：只处理EC1 = 2的大家族，简化数据复杂度"
   ]
  },
  {
   "cell_type": "code",
   "execution_count": 16,
   "metadata": {},
   "outputs": [
    {
     "name": "stdout",
     "output_type": "stream",
     "text": [
      "    Entry  EC number                                           Sequence EC1  \\\n",
      "0  P51451   2.7.10.2  MGLVSSKKPDKEKPIKEKDKGQWSPLKVSAQDKDAPPLPPLVVFNH...   2   \n",
      "1  C7C422    3.5.2.6  MELPNIMHPVAKLSTALAAALMLSGCMPGEIRPTIGQQMETGDQRF...   3   \n",
      "2  Q07457   2.3.2.27  MTAEPATKKIKLELSDPSEPLTQSDVIAFQKEALFRCINRRRVDFE...   2   \n",
      "3  Q07009  3.4.22.53  MAGIAMKLAKDREAAEGLGSHERAIKYLNQDYETLRNECLEAGALF...   3   \n",
      "4  Q9TTH8  3.4.22.54  MPTVISASVAPRTGAEPRSPGPIAQAAQGKGTEAGGGNPSGIYSAI...   3   \n",
      "\n",
      "  EC2 EC3 EC4  \n",
      "0   7  10   2  \n",
      "1   5   2   6  \n",
      "2   3   2  27  \n",
      "3   4  22  53  \n",
      "4   4  22  54  \n"
     ]
    }
   ],
   "source": [
    "print(df.head())"
   ]
  },
  {
   "cell_type": "code",
   "execution_count": 20,
   "metadata": {},
   "outputs": [],
   "source": [
    "import pickle\n",
    "# 将df数据的EC number转化为标签，并保存到train_data_ec_label.p文件中\n",
    "# 定义一个函数来转换 'EC number' 和 'Sequence' 列\n",
    "def convert_row(row):\n",
    "    # 将 'EC number' 分割成四个部分\n",
    "    parts = row['EC number'].split('.')\n",
    "    # 创建一个字典\n",
    "    result = {\n",
    "        'EC_number': [f'1_{parts[0]}',f'2_{parts[1]}',f'3_{parts[2]}',f'4_{parts[3]}'],\n",
    "        'seq': row['Sequence']\n",
    "    }\n",
    "    return result\n",
    "\n",
    "# 取出df中EC1=2的数据\n",
    "df = df[df['EC1'] == '2'].reset_index(drop=True)\n",
    "\n",
    "# 对 df 应用 convert_row 函数，并将结果转换为字典\n",
    "data = df.apply(convert_row, axis=1).to_dict()\n",
    "\n",
    "txt_file_path = 'train_data/train_data_EC1=2.txt'\n",
    "pickle_file_path = 'train_data/train_data_EC1=2.p'\n",
    "with open(txt_file_path, 'w') as file:\n",
    "    # 遍历字典的键和值\n",
    "    for key, value in data.items():\n",
    "        # 将键和值写入文件\n",
    "        file.write(f'{key}: {value}\\n')\n",
    "\n",
    "# 并写入.pickle文件\n",
    "with open(pickle_file_path, 'wb') as file:\n",
    "    pickle.dump(data, file)"
   ]
  },
  {
   "cell_type": "code",
   "execution_count": 21,
   "metadata": {},
   "outputs": [
    {
     "name": "stdout",
     "output_type": "stream",
     "text": [
      "    Entry EC number                                           Sequence EC1  \\\n",
      "0  P51451  2.7.10.2  MGLVSSKKPDKEKPIKEKDKGQWSPLKVSAQDKDAPPLPPLVVFNH...   2   \n",
      "1  Q07457  2.3.2.27  MTAEPATKKIKLELSDPSEPLTQSDVIAFQKEALFRCINRRRVDFE...   2   \n",
      "2  Q3TTA7  2.3.2.27  MANSMNGRNPGGRGGNPRKGRILGIIDAIQDAVGPPKQAAADRRTV...   2   \n",
      "3  P55217  2.5.1.48  MAVSSFQCPTIFSSSSISGFQCRSDPDLVGSPVGGSSRRRVHASAG...   2   \n",
      "4  P10506  2.7.12.2  MFKRRRNPKGLVLNPNASVKSSDNDHKEELINNQKSFESNVEAFME...   2   \n",
      "\n",
      "  EC2 EC3 EC4  \n",
      "0   7  10   2  \n",
      "1   3   2  27  \n",
      "2   3   2  27  \n",
      "3   5   1  48  \n",
      "4   7  12   2  \n"
     ]
    }
   ],
   "source": [
    "print(df.head())"
   ]
  },
  {
   "cell_type": "markdown",
   "metadata": {},
   "source": [
    "## (5). 创建EC lable和ctrl code的映射文件first_level_to_ctrl.p"
   ]
  },
  {
   "cell_type": "markdown",
   "metadata": {},
   "source": [
    "第一层标签"
   ]
  },
  {
   "cell_type": "code",
   "execution_count": 27,
   "metadata": {},
   "outputs": [
    {
     "name": "stdout",
     "output_type": "stream",
     "text": [
      "{'1_1': 0, '1_2': 1, '1_3': 2, '1_4': 3, '1_5': 4, '1_6': 5, '1_7': 6}\n"
     ]
    }
   ],
   "source": [
    "import pickle\n",
    "\n",
    "# 第一层标签\n",
    "first_level = {'1_1': 0, '1_2': 1, '1_3': 2, '1_4': 3,'1_5': 4, '1_6': 5, '1_7': 6}\n",
    "\n",
    "print(first_level)\n",
    "# 文件路径\n",
    "file_path = 'mapping_files/first_level_to_ctrl.p'\n",
    "\n",
    "# 创建.p文件\n",
    "with open(file_path, 'wb') as file:\n",
    "    pickle.dump(first_level, file)"
   ]
  },
  {
   "cell_type": "markdown",
   "metadata": {},
   "source": [
    "第二层标签"
   ]
  },
  {
   "cell_type": "code",
   "execution_count": 28,
   "metadata": {},
   "outputs": [
    {
     "name": "stdout",
     "output_type": "stream",
     "text": [
      "{'2_1': 7, '2_2': 8, '2_3': 9, '2_4': 10, '2_5': 11, '2_6': 12, '2_7': 13, '2_8': 14, '2_9': 15, '2_10': 16, '2_11': 17, '2_12': 18, '2_13': 19, '2_14': 20, '2_15': 21, '2_16': 22, '2_17': 23, '2_18': 24, '2_19': 25, '2_20': 26, '2_21': 27, '2_22': 28, '2_23': 29, '2_97': 30, '2_98': 31, '2_99': 32}\n"
     ]
    }
   ],
   "source": [
    "start_code = 7\n",
    "# 第二层标签\n",
    "second_level = {}\n",
    "# 使用 for 循环和 range 函数来生成键和值\n",
    "for i in range(1, 24):\n",
    "    key = f'2_{i}'\n",
    "    second_level[key] = start_code\n",
    "    start_code += 1\n",
    "# 补充缺失的键值对\n",
    "second_level['2_97'] = start_code\n",
    "start_code += 1\n",
    "second_level['2_98'] = start_code\n",
    "start_code += 1\n",
    "second_level['2_99'] = start_code\n",
    "start_code += 1\n",
    "\n",
    "print(second_level)\n",
    "# 文件路径\n",
    "file_path = 'mapping_files/second_level_to_ctrl.p'\n",
    "# 创建.p文件\n",
    "with open(file_path, 'wb') as file:\n",
    "    pickle.dump(second_level, file)"
   ]
  },
  {
   "cell_type": "markdown",
   "metadata": {},
   "source": [
    "第三层标签"
   ]
  },
  {
   "cell_type": "code",
   "execution_count": 29,
   "metadata": {},
   "outputs": [
    {
     "name": "stdout",
     "output_type": "stream",
     "text": [
      "{'3_1': 33, '3_2': 34, '3_3': 35, '3_4': 36, '3_5': 37, '3_6': 38, '3_7': 39, '3_8': 40, '3_9': 41, '3_10': 42, '3_11': 43, '3_12': 44, '3_13': 45, '3_14': 46, '3_15': 47, '3_16': 48, '3_17': 49, '3_18': 50, '3_19': 51, '3_20': 52, '3_21': 53, '3_22': 54, '3_23': 55, '3_24': 56, '3_25': 57, '3_26': 58, '3_27': 59, '3_28': 60, '3_29': 61, '3_30': 62, '3_31': 63, '3_97': 64, '3_98': 65, '3_99': 66}\n"
     ]
    }
   ],
   "source": [
    "# 第三层标签\n",
    "third_level = {}\n",
    "# 使用 for 循环和 range 函数来生成键和值\n",
    "for i in range(1, 32):\n",
    "    key = f'3_{i}'\n",
    "    third_level[key] = start_code\n",
    "    start_code += 1\n",
    "# 补充缺失的键值对\n",
    "third_level['3_97'] = start_code\n",
    "start_code += 1\n",
    "third_level['3_98'] = start_code\n",
    "start_code += 1\n",
    "third_level['3_99'] = start_code\n",
    "start_code += 1\n",
    "\n",
    "print(third_level)\n",
    "# 文件路径\n",
    "file_path = 'mapping_files/third_level_to_ctrl.p'\n",
    "# 创建.p文件\n",
    "with open(file_path, 'wb') as file:\n",
    "    pickle.dump(third_level, file)\n"
   ]
  },
  {
   "cell_type": "markdown",
   "metadata": {},
   "source": [
    "第四层标签"
   ]
  },
  {
   "cell_type": "code",
   "execution_count": 30,
   "metadata": {},
   "outputs": [
    {
     "name": "stdout",
     "output_type": "stream",
     "text": [
      "{'4_1': 67, '4_2': 68, '4_3': 69, '4_4': 70, '4_5': 71, '4_6': 72, '4_7': 73, '4_8': 74, '4_9': 75, '4_10': 76, '4_11': 77, '4_12': 78, '4_13': 79, '4_14': 80, '4_15': 81, '4_16': 82, '4_17': 83, '4_18': 84, '4_19': 85, '4_20': 86, '4_21': 87, '4_22': 88, '4_23': 89, '4_24': 90, '4_25': 91, '4_26': 92, '4_27': 93, '4_28': 94, '4_29': 95, '4_30': 96, '4_31': 97, '4_32': 98, '4_33': 99, '4_34': 100, '4_35': 101, '4_36': 102, '4_37': 103, '4_38': 104, '4_39': 105, '4_40': 106, '4_41': 107, '4_42': 108, '4_43': 109, '4_44': 110, '4_45': 111, '4_46': 112, '4_47': 113, '4_48': 114, '4_49': 115, '4_50': 116, '4_51': 117, '4_52': 118, '4_53': 119, '4_54': 120, '4_55': 121, '4_56': 122, '4_57': 123, '4_58': 124, '4_59': 125, '4_60': 126, '4_61': 127, '4_62': 128, '4_63': 129, '4_64': 130, '4_65': 131, '4_66': 132, '4_67': 133, '4_68': 134, '4_69': 135, '4_70': 136, '4_71': 137, '4_72': 138, '4_73': 139, '4_74': 140, '4_75': 141, '4_76': 142, '4_77': 143, '4_78': 144, '4_79': 145, '4_80': 146, '4_81': 147, '4_82': 148, '4_83': 149, '4_84': 150, '4_85': 151, '4_86': 152, '4_87': 153, '4_88': 154, '4_89': 155, '4_90': 156, '4_91': 157, '4_92': 158, '4_93': 159, '4_94': 160, '4_95': 161, '4_96': 162, '4_97': 163, '4_98': 164, '4_99': 165, '4_100': 166, '4_101': 167, '4_102': 168, '4_103': 169, '4_104': 170, '4_105': 171, '4_106': 172, '4_107': 173, '4_108': 174, '4_109': 175, '4_110': 176, '4_111': 177, '4_112': 178, '4_113': 179, '4_114': 180, '4_115': 181, '4_116': 182, '4_117': 183, '4_118': 184, '4_119': 185, '4_120': 186, '4_121': 187, '4_122': 188, '4_123': 189, '4_124': 190, '4_125': 191, '4_126': 192, '4_127': 193, '4_128': 194, '4_129': 195, '4_130': 196, '4_131': 197, '4_132': 198, '4_133': 199, '4_134': 200, '4_135': 201, '4_136': 202, '4_137': 203, '4_138': 204, '4_139': 205, '4_140': 206, '4_141': 207, '4_142': 208, '4_143': 209, '4_144': 210, '4_145': 211, '4_146': 212, '4_147': 213, '4_148': 214, '4_149': 215, '4_150': 216, '4_151': 217, '4_152': 218, '4_153': 219, '4_154': 220, '4_155': 221, '4_156': 222, '4_157': 223, '4_158': 224, '4_159': 225, '4_160': 226, '4_161': 227, '4_162': 228, '4_163': 229, '4_164': 230, '4_165': 231, '4_166': 232, '4_167': 233, '4_168': 234, '4_169': 235, '4_170': 236, '4_171': 237, '4_172': 238, '4_173': 239, '4_174': 240, '4_175': 241, '4_176': 242, '4_177': 243, '4_178': 244, '4_179': 245, '4_180': 246, '4_181': 247, '4_182': 248, '4_183': 249, '4_184': 250, '4_185': 251, '4_186': 252, '4_187': 253, '4_188': 254, '4_189': 255, '4_190': 256, '4_191': 257, '4_192': 258, '4_193': 259, '4_194': 260, '4_195': 261, '4_196': 262, '4_197': 263, '4_198': 264, '4_199': 265, '4_200': 266, '4_201': 267, '4_202': 268, '4_203': 269, '4_204': 270, '4_205': 271, '4_206': 272, '4_207': 273, '4_208': 274, '4_209': 275, '4_210': 276, '4_211': 277, '4_212': 278, '4_213': 279, '4_214': 280, '4_215': 281, '4_216': 282, '4_217': 283, '4_218': 284, '4_219': 285, '4_220': 286, '4_221': 287, '4_222': 288, '4_223': 289, '4_224': 290, '4_225': 291, '4_226': 292, '4_227': 293, '4_228': 294, '4_229': 295, '4_230': 296, '4_231': 297, '4_232': 298, '4_233': 299, '4_234': 300, '4_235': 301, '4_236': 302, '4_237': 303, '4_238': 304, '4_239': 305, '4_240': 306, '4_241': 307, '4_242': 308, '4_243': 309, '4_244': 310, '4_245': 311, '4_246': 312, '4_247': 313, '4_248': 314, '4_249': 315, '4_250': 316, '4_251': 317, '4_252': 318, '4_253': 319, '4_254': 320, '4_255': 321, '4_256': 322, '4_257': 323, '4_258': 324, '4_259': 325, '4_260': 326, '4_261': 327, '4_262': 328, '4_263': 329, '4_264': 330, '4_265': 331, '4_266': 332, '4_267': 333, '4_268': 334, '4_269': 335, '4_270': 336, '4_271': 337, '4_272': 338, '4_273': 339, '4_274': 340, '4_275': 341, '4_276': 342, '4_277': 343, '4_278': 344, '4_279': 345, '4_280': 346, '4_281': 347, '4_282': 348, '4_283': 349, '4_284': 350, '4_285': 351, '4_286': 352, '4_287': 353, '4_288': 354, '4_289': 355, '4_290': 356, '4_291': 357, '4_292': 358, '4_293': 359, '4_294': 360, '4_295': 361, '4_296': 362, '4_297': 363, '4_298': 364, '4_299': 365, '4_300': 366, '4_301': 367, '4_302': 368, '4_303': 369, '4_304': 370, '4_305': 371, '4_306': 372, '4_307': 373, '4_308': 374, '4_309': 375, '4_310': 376, '4_311': 377, '4_312': 378, '4_313': 379, '4_314': 380, '4_315': 381, '4_316': 382, '4_317': 383, '4_318': 384, '4_319': 385, '4_320': 386, '4_321': 387, '4_322': 388, '4_323': 389, '4_324': 390, '4_325': 391, '4_326': 392, '4_327': 393, '4_328': 394, '4_329': 395, '4_330': 396, '4_331': 397, '4_332': 398, '4_333': 399, '4_334': 400, '4_335': 401, '4_336': 402, '4_337': 403, '4_338': 404, '4_339': 405, '4_340': 406, '4_341': 407, '4_342': 408, '4_343': 409, '4_344': 410, '4_345': 411, '4_346': 412, '4_347': 413, '4_348': 414, '4_349': 415, '4_350': 416, '4_351': 417, '4_352': 418, '4_353': 419, '4_354': 420, '4_355': 421, '4_356': 422, '4_357': 423, '4_358': 424, '4_359': 425, '4_360': 426, '4_361': 427, '4_362': 428, '4_363': 429, '4_364': 430, '4_365': 431, '4_366': 432, '4_367': 433, '4_368': 434, '4_369': 435, '4_370': 436, '4_371': 437, '4_372': 438, '4_373': 439, '4_374': 440, '4_375': 441, '4_376': 442, '4_377': 443, '4_378': 444, '4_379': 445, '4_380': 446, '4_381': 447, '4_382': 448, '4_383': 449, '4_384': 450, '4_385': 451, '4_386': 452, '4_387': 453, '4_388': 454, '4_389': 455, '4_390': 456, '4_391': 457, '4_392': 458, '4_393': 459, '4_394': 460, '4_395': 461, '4_396': 462, '4_397': 463, '4_398': 464, '4_399': 465, '4_400': 466, '4_401': 467, '4_402': 468, '4_403': 469, '4_404': 470, '4_405': 471, '4_406': 472, '4_407': 473, '4_408': 474, '4_409': 475, '4_410': 476, '4_411': 477, '4_412': 478, '4_413': 479, '4_414': 480, '4_415': 481, '4_416': 482, '4_417': 483, '4_418': 484, '4_419': 485, '4_420': 486, '4_421': 487, '4_422': 488, '4_423': 489, '4_424': 490}\n"
     ]
    }
   ],
   "source": [
    "# 第四层标签\n",
    "forth_level = {}\n",
    "# 使用 for 循环和 range 函数来生成键和值\n",
    "for i in range(1, 425):\n",
    "    key = f'4_{i}'\n",
    "    forth_level[key] = start_code\n",
    "    start_code += 1\n",
    "\n",
    "# 补充缺失的键值对\n",
    "third_level['4_n1'] = start_code\n",
    "start_code += 1\n",
    "third_level['4_n2'] = start_code\n",
    "start_code += 1\n",
    "third_level['4_n3'] = start_code\n",
    "start_code += 1\n",
    "third_level['4_n4'] = start_code\n",
    "start_code += 1\n",
    "third_level['4_n5'] = start_code\n",
    "start_code += 1\n",
    "third_level['4_n6'] = start_code\n",
    "start_code += 1\n",
    "third_level['4_n7'] = start_code\n",
    "start_code += 1\n",
    "third_level['4_n8'] = start_code\n",
    "start_code += 1\n",
    "third_level['4_n9'] = start_code\n",
    "start_code += 1\n",
    "third_level['4_n10'] = start_code\n",
    "start_code += 1\n",
    "third_level['4_n11'] = start_code\n",
    "start_code += 1\n",
    "third_level['4_n12'] = start_code\n",
    "start_code += 1\n",
    "third_level['STOP'] = start_code\n",
    "start_code += 1\n",
    "third_level['PAD'] = 129406\n",
    "print(forth_level)\n",
    "# 文件路径\n",
    "file_path = 'mapping_files/forth_level_to_ctrl.p'\n",
    "# 创建.p文件\n",
    "with open(file_path, 'wb') as file:\n",
    "    pickle.dump(forth_level, file)\n"
   ]
  },
  {
   "cell_type": "code",
   "execution_count": 31,
   "metadata": {},
   "outputs": [],
   "source": [
    "# 将所有的标签整理到一个字典中\n",
    "txt_file_path = 'mapping_files/ec_level_to_ctrl.txt'\n",
    "pickle_file_path = 'mapping_files/ec_level_to_ctrl.p'\n",
    "\n",
    "all_level = {**first_level, **second_level, **third_level, **forth_level}\n",
    "# 以增加模式打开文件\n",
    "with open(txt_file_path, 'w') as file:\n",
    "    # 遍历字典的键和值\n",
    "    for key, value in all_level.items():\n",
    "        # 将键和值写入文件\n",
    "        file.write(f'{key}: {value}\\n')\n",
    "\n",
    "# 并写入.pickle文件\n",
    "with open(pickle_file_path, 'wb') as file:\n",
    "    pickle.dump(all_level, file)"
   ]
  }
 ],
 "metadata": {
  "kernelspec": {
   "display_name": "progen",
   "language": "python",
   "name": "python3"
  },
  "language_info": {
   "codemirror_mode": {
    "name": "ipython",
    "version": 3
   },
   "file_extension": ".py",
   "mimetype": "text/x-python",
   "name": "python",
   "nbconvert_exporter": "python",
   "pygments_lexer": "ipython3",
   "version": "3.9.17"
  }
 },
 "nbformat": 4,
 "nbformat_minor": 2
}
