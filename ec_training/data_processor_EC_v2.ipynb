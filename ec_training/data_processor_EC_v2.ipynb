{
 "cells": [
  {
   "cell_type": "markdown",
   "metadata": {},
   "source": [
    "# 1. 用pd库读取并处理EC_number的csv数据"
   ]
  },
  {
   "cell_type": "markdown",
   "metadata": {},
   "source": [
    "## (1). 读取csv数据"
   ]
  },
  {
   "cell_type": "code",
   "execution_count": 17,
   "metadata": {},
   "outputs": [
    {
     "name": "stdout",
     "output_type": "stream",
     "text": [
      "    Entry  EC number                                           Sequence\n",
      "0  P51451   2.7.10.2  MGLVSSKKPDKEKPIKEKDKGQWSPLKVSAQDKDAPPLPPLVVFNH...\n",
      "1  C7C422    3.5.2.6  MELPNIMHPVAKLSTALAAALMLSGCMPGEIRPTIGQQMETGDQRF...\n",
      "2  Q07457   2.3.2.27  MTAEPATKKIKLELSDPSEPLTQSDVIAFQKEALFRCINRRRVDFE...\n",
      "3  Q07009  3.4.22.53  MAGIAMKLAKDREAAEGLGSHERAIKYLNQDYETLRNECLEAGALF...\n",
      "4  Q9TTH8  3.4.22.54  MPTVISASVAPRTGAEPRSPGPIAQAAQGKGTEAGGGNPSGIYSAI...\n",
      "1022\n",
      "4\n",
      "整个文件的序列个数为： 227362\n"
     ]
    },
    {
     "data": {
      "image/png": "[encoded data removed]",
      "text/plain": [
       "<Figure size 640x480 with 1 Axes>"
      ]
     },
     "metadata": {},
     "output_type": "display_data"
    }
   ],
   "source": [
    "# 利用pandas库读取csv文件，格式为（Entry\tEC number\tSequence）\n",
    "\n",
    "import pandas as pd\n",
    "import numpy as np\n",
    "import re\n",
    "import os\n",
    "\n",
    "# 读取csv文件\n",
    "df = pd.read_csv('train_data/split100.csv', sep='\\t')\n",
    "print(df.head())\n",
    "\n",
    "# 读取EC number列\n",
    "ec = df['EC number']\n",
    "# 读取Sequence列\n",
    "seq = df['Sequence']\n",
    "# 读取Entry列\n",
    "entry = df['Entry']\n",
    "# 输出Sequence列长度的最大值和最小值\n",
    "print(seq.str.len().max())\n",
    "print(seq.str.len().min())\n",
    "print(\"整个文件的序列个数为：\", len(seq))\n",
    "\n",
    "# 绘制Sequence列长度的直方图\n",
    "import matplotlib.pyplot as plt\n",
    "seq.str.len().hist(bins=100)\n",
    "plt.show()\n"
   ]
  },
  {
   "cell_type": "markdown",
   "metadata": {},
   "source": [
    "## (2). 处理不规则的EC number"
   ]
  },
  {
   "cell_type": "code",
   "execution_count": 18,
   "metadata": {},
   "outputs": [
    {
     "name": "stdout",
     "output_type": "stream",
     "text": [
      "2.3.1.23;2.3.1.n6;2.3.1.121;2.3.1.67;2.3.1.n7\n"
     ]
    }
   ],
   "source": [
    "# # 查看split70不规则的EC number，比如第18行\n",
    "# row_18 = df.iloc[17]  # Python 的索引是从 0 开始的，所以第18行实际上是索引 17\n",
    "# print(row_18['EC number'])\n",
    "\n",
    "# 查看split100不规则的EC number，比如第35行\n",
    "row_11 = df.iloc[33]  # Python 的索引是从 0 开始的，且有一行是标题\n",
    "print(row_11['EC number'])"
   ]
  },
  {
   "cell_type": "code",
   "execution_count": 20,
   "metadata": {},
   "outputs": [],
   "source": [
    "# 处理上述不规则的EC number，保留其分号前的第一个EC number\n",
    "def process_ec_number(ec_number):\n",
    "    # 如果 'EC number' 包含分号，只保留第一个\n",
    "    if ';' in ec_number:\n",
    "        return ec_number.split(';')[0]\n",
    "    # 否则，直接返回 'EC number'\n",
    "    else:\n",
    "        return ec_number\n",
    "\n",
    "# 对 'EC number' 列应用 process_ec_number 函数\n",
    "df['EC number'] = df['EC number'].apply(process_ec_number)"
   ]
  },
  {
   "cell_type": "code",
   "execution_count": 21,
   "metadata": {},
   "outputs": [
    {
     "name": "stdout",
     "output_type": "stream",
     "text": [
      "2.3.1.23\n"
     ]
    }
   ],
   "source": [
    "# 查看split100不规则的EC number，比如第35行\n",
    "row_11 = df.iloc[33]  # Python 的索引是从 0 开始的，且有一行是标题\n",
    "print(row_11['EC number'])"
   ]
  },
  {
   "cell_type": "markdown",
   "metadata": {},
   "source": [
    "## (3). 查看df['EC number']的统计信息"
   ]
  },
  {
   "cell_type": "code",
   "execution_count": 22,
   "metadata": {},
   "outputs": [
    {
     "name": "stdout",
     "output_type": "stream",
     "text": [
      "EC number\n",
      "2.7.7.6     2156\n",
      "7.1.2.2     2149\n",
      "2.7.11.1    2110\n",
      "3.6.4.12    2070\n",
      "5.2.1.8     1486\n",
      "7.1.1.2     1388\n",
      "3.6.4.13    1296\n",
      "2.3.2.27    1191\n",
      "3.1.26.4    1143\n",
      "4.2.1.33    1078\n",
      "5.6.1.7     1060\n",
      "6.1.1.20    1006\n",
      "4.2.1.20    1001\n",
      "2.1.3.15     980\n",
      "4.2.1.11     915\n",
      "2.7.4.3      900\n",
      "4.3.2.10     893\n",
      "6.1.1.17     882\n",
      "6.5.1.2      876\n",
      "6.1.1.14     858\n",
      "Name: count, dtype: int64\n"
     ]
    }
   ],
   "source": [
    "# 统计 'EC number' 列中每个值的出现次数\n",
    "ec_counts = df['EC number'].value_counts()\n",
    "print(ec_counts[:20])"
   ]
  },
  {
   "cell_type": "code",
   "execution_count": 23,
   "metadata": {},
   "outputs": [
    {
     "name": "stdout",
     "output_type": "stream",
     "text": [
      "EC1\n",
      "2    84117\n",
      "3    41696\n",
      "1    28446\n",
      "6    26267\n",
      "4    23900\n",
      "5    14645\n",
      "7     8291\n",
      "Name: count, dtype: int64\n"
     ]
    }
   ],
   "source": [
    "# 以'.'为分隔符，将EC number分为4个部分，分别为EC1、EC2、EC3、EC4，统计每个部分的值的出现次数\n",
    "df['EC1'] = df['EC number'].apply(lambda x: x.split('.')[0])\n",
    "df['EC2'] = df['EC number'].apply(lambda x: x.split('.')[1])\n",
    "df['EC3'] = df['EC number'].apply(lambda x: x.split('.')[2])\n",
    "df['EC4'] = df['EC number'].apply(lambda x: x.split('.')[3])\n",
    "ec1_counts = df['EC1'].value_counts()\n",
    "ec2_counts = df['EC2'].value_counts()\n",
    "ec3_counts = df['EC3'].value_counts()\n",
    "ec4_counts = df['EC4'].value_counts()\n",
    "print(ec1_counts)\n",
    "# print(ec2_counts)\n",
    "# print(ec3_counts)\n",
    "# print(ec4_counts)"
   ]
  },
  {
   "cell_type": "code",
   "execution_count": 24,
   "metadata": {},
   "outputs": [
    {
     "name": "stdout",
     "output_type": "stream",
     "text": [
      "     Entry EC number                                           Sequence EC1  \\\n",
      "0   P51451  2.7.10.2  MGLVSSKKPDKEKPIKEKDKGQWSPLKVSAQDKDAPPLPPLVVFNH...   2   \n",
      "2   Q07457  2.3.2.27  MTAEPATKKIKLELSDPSEPLTQSDVIAFQKEALFRCINRRRVDFE...   2   \n",
      "8   Q3TTA7  2.3.2.27  MANSMNGRNPGGRGGNPRKGRILGIIDAIQDAVGPPKQAAADRRTV...   2   \n",
      "10  P55217  2.5.1.48  MAVSSFQCPTIFSSSSISGFQCRSDPDLVGSPVGGSSRRRVHASAG...   2   \n",
      "11  P10506  2.7.12.2  MFKRRRNPKGLVLNPNASVKSSDNDHKEELINNQKSFESNVEAFME...   2   \n",
      "\n",
      "   EC2 EC3 EC4  \n",
      "0    7  10   2  \n",
      "2    3   2  27  \n",
      "8    3   2  27  \n",
      "10   5   1  48  \n",
      "11   7  12   2  \n"
     ]
    }
   ],
   "source": [
    "# 筛选EC1为2的数据\n",
    "df_select = df[df['EC1'] == '2']\n",
    "print(df_select.head())"
   ]
  },
  {
   "cell_type": "markdown",
   "metadata": {},
   "source": [
    "统计可能出现的标签种类"
   ]
  },
  {
   "cell_type": "code",
   "execution_count": 8,
   "metadata": {},
   "outputs": [
    {
     "name": "stdout",
     "output_type": "stream",
     "text": [
      "第 1 位的数字种类: [2]\n",
      "第 2 位的数字种类: [1, 2, 3, 4, 5, 6, 7, 8, 9, 10]\n",
      "第 3 位的数字种类: [1, 2, 3, 4, 5, 6, 7, 8, 9, 10, 11, 12, 13, 14, 99]\n",
      "第 4 位的数字种类: [1, 2, 3, 4, 5, 6, 7, 8, 9, 10, 11, 12, 13, 14, 15, 16, 17, 18, 19, 20, 21, 22, 23, 24, 25, 26, 27, 28, 29, 30, 31, 32, 33, 34, 35, 36, 37, 38, 39, 40, 41, 42, 43, 44, 45, 46, 47, 48, 49, 50, 51, 52, 53, 54, 55, 56, 57, 58, 59, 60, 61, 62, 63, 64, 65, 66, 67, 68, 69, 70, 71, 72, 73, 74, 75, 76, 77, 78, 79, 80, 81, 82, 83, 84, 85, 86, 87, 88, 89, 90, 91, 92, 93, 94, 95, 96, 97, 98, 99, 100, 101, 102, 103, 104, 105, 106, 107, 108, 109, 110, 111, 112, 113, 114, 115, 116, 117, 118, 119, 120, 121, 122, 123, 124, 126, 127, 128, 129, 130, 131, 132, 133, 134, 135, 136, 137, 138, 139, 140, 141, 142, 143, 144, 145, 146, 147, 148, 149, 150, 151, 152, 153, 154, 155, 156, 157, 158, 159, 160, 161, 162, 163, 164, 165, 166, 167, 168, 169, 170, 171, 172, 173, 174, 175, 176, 177, 178, 179, 180, 181, 182, 183, 184, 185, 186, 187, 188, 189, 190, 191, 192, 193, 194, 195, 196, 197, 198, 199, 200, 201, 202, 203, 204, 205, 206, 207, 208, 209, 210, 211, 212, 213, 214, 215, 216, 217, 218, 219, 220, 221, 222, 223, 224, 225, 226, 227, 228, 229, 230, 231, 232, 233, 234, 235, 236, 237, 238, 239, 240, 241, 242, 243, 244, 245, 246, 247, 248, 249, 250, 251, 252, 253, 254, 255, 256, 257, 258, 259, 260, 261, 262, 263, 264, 265, 266, 267, 268, 269, 270, 271, 272, 273, 274, 275, 276, 277, 278, 279, 280, 281, 282, 283, 284, 285, 286, 287, 288, 289, 290, 291, 292, 293, 294, 295, 296, 297, 298, 299, 300, 301, 302, 303, 304, 305, 306, 307, 308, 309, 310, 311, 312, 313, 314, 315, 316, 317, 318, 319, 320, 321, 322, 323, 324, 325, 326, 327, 328, 329, 330, 331, 332, 333, 334, 335, 336, 337, 338, 339, 340, 341, 342, 343, 344, 345, 346, 347, 348, 350, 351, 352, 353, 354, 355, 356, 357, 359, 360, 361, 362, 363, 364, 365, 366, 368, 369, 370, 372, 374, 376, 384]\n",
      "第 1 位的非数字种类: []\n",
      "第 2 位的非数字种类: []\n",
      "第 3 位的非数字种类: []\n",
      "第 4 位的非数字种类: ['n1', 'n11', 'n2', 'n3', 'n4', 'n7', 'n8', 'n9']\n"
     ]
    }
   ],
   "source": [
    "# EC number一共4位，统计EC number每一位可能出现的数字种类\n",
    "# 定义一个函数来获取 'EC number' 的每一位\n",
    "def get_digits(ec_number):\n",
    "    return ec_number.split('.')\n",
    "\n",
    "# 对 'EC number' 列应用 get_digits 函数，并将结果转换为 DataFrame\n",
    "digits_df = df_select['EC number'].apply(get_digits).apply(pd.Series)\n",
    "\n",
    "# 初始化一个空的 set 来存储每一位的种类\n",
    "digits_set = [set() for _ in range(4)]\n",
    "\n",
    "# 遍历每一列，将每一列的值添加到对应的 set 中\n",
    "for i in range(4):\n",
    "    digits_set[i] = digits_set[i].union(digits_df[i].dropna().unique())\n",
    "\n",
    "# 对每一位的种类进行排序，先尝试转换为整数，如果不能转换则忽略\n",
    "digits_number_set = [sorted([int(digit) for digit in digits if digit.isdigit()]) for digits in digits_set]\n",
    "# 打印每一位的数字种类\n",
    "for i, digits in enumerate(digits_number_set):\n",
    "    print(f\"第 {i+1} 位的数字种类: {digits}\")\n",
    "\n",
    "def is_int(s):\n",
    "    try:\n",
    "        int(s)\n",
    "        return True\n",
    "    except ValueError:\n",
    "        return False\n",
    "digits_Un_number_set = [sorted([digit for digit in digits if not is_int(digit)]) for digits in digits_set]\n",
    "# 打印每一位的非数字种类\n",
    "for i, digits in enumerate(digits_Un_number_set):\n",
    "    print(f\"第 {i+1} 位的非数字种类: {digits}\")"
   ]
  },
  {
   "cell_type": "markdown",
   "metadata": {},
   "source": [
    "## (4). 将df数据处理成train_data.p文件"
   ]
  },
  {
   "cell_type": "markdown",
   "metadata": {},
   "source": [
    "处理方法：只处理EC1 = 2的大家族，简化数据复杂度"
   ]
  },
  {
   "cell_type": "code",
   "execution_count": 15,
   "metadata": {},
   "outputs": [
    {
     "name": "stdout",
     "output_type": "stream",
     "text": [
      "    Entry EC number                                           Sequence EC1  \\\n",
      "0  P51451  2.7.10.2  MGLVSSKKPDKEKPIKEKDKGQWSPLKVSAQDKDAPPLPPLVVFNH...   2   \n",
      "1  Q07457  2.3.2.27  MTAEPATKKIKLELSDPSEPLTQSDVIAFQKEALFRCINRRRVDFE...   2   \n",
      "2  Q3TTA7  2.3.2.27  MANSMNGRNPGGRGGNPRKGRILGIIDAIQDAVGPPKQAAADRRTV...   2   \n",
      "3  P55217  2.5.1.48  MAVSSFQCPTIFSSSSISGFQCRSDPDLVGSPVGGSSRRRVHASAG...   2   \n",
      "4  P10506  2.7.12.2  MFKRRRNPKGLVLNPNASVKSSDNDHKEELINNQKSFESNVEAFME...   2   \n",
      "\n",
      "  EC2 EC3 EC4  \n",
      "0   7  10   2  \n",
      "1   3   2  27  \n",
      "2   3   2  27  \n",
      "3   5   1  48  \n",
      "4   7  12   2  \n",
      "(84117, 7)\n"
     ]
    }
   ],
   "source": [
    "print(df_select.head())\n",
    "print(df_select.shape)"
   ]
  },
  {
   "cell_type": "markdown",
   "metadata": {},
   "source": [
    "处理训练数据方法1：将一行数据扩充为四行，即添加none标记"
   ]
  },
  {
   "cell_type": "code",
   "execution_count": 14,
   "metadata": {},
   "outputs": [
    {
     "name": "stdout",
     "output_type": "stream",
     "text": [
      "扩展前数据的示例：\n",
      "    Entry EC number                                           Sequence EC1  \\\n",
      "0  P51451  2.7.10.2  MGLVSSKKPDKEKPIKEKDKGQWSPLKVSAQDKDAPPLPPLVVFNH...   2   \n",
      "1  Q07457  2.3.2.27  MTAEPATKKIKLELSDPSEPLTQSDVIAFQKEALFRCINRRRVDFE...   2   \n",
      "2  Q3TTA7  2.3.2.27  MANSMNGRNPGGRGGNPRKGRILGIIDAIQDAVGPPKQAAADRRTV...   2   \n",
      "3  P55217  2.5.1.48  MAVSSFQCPTIFSSSSISGFQCRSDPDLVGSPVGGSSRRRVHASAG...   2   \n",
      "4  P10506  2.7.12.2  MFKRRRNPKGLVLNPNASVKSSDNDHKEELINNQKSFESNVEAFME...   2   \n",
      "\n",
      "  EC2 EC3 EC4  \n",
      "0   7  10   2  \n",
      "1   3   2  27  \n",
      "2   3   2  27  \n",
      "3   5   1  48  \n",
      "4   7  12   2  \n",
      "(28553, 7)\n",
      "扩展后数据的示例：\n",
      "          EC number                                           Sequence\n",
      "0  2.none.none.none  MGLVSSKKPDKEKPIKEKDKGQWSPLKVSAQDKDAPPLPPLVVFNH...\n",
      "1     2.7.none.none  MGLVSSKKPDKEKPIKEKDKGQWSPLKVSAQDKDAPPLPPLVVFNH...\n",
      "2       2.7.10.none  MGLVSSKKPDKEKPIKEKDKGQWSPLKVSAQDKDAPPLPPLVVFNH...\n",
      "3          2.7.10.2  MGLVSSKKPDKEKPIKEKDKGQWSPLKVSAQDKDAPPLPPLVVFNH...\n",
      "0  2.none.none.none  MTAEPATKKIKLELSDPSEPLTQSDVIAFQKEALFRCINRRRVDFE...\n",
      "(114212, 2)\n"
     ]
    }
   ],
   "source": [
    "import pickle\n",
    "# 将df数据的EC number转化为标签，并保存到train_data_ec_label.p文件中\n",
    "# 定义一个函数来转换 'EC number' 和 'Sequence' 列\n",
    "def convert_row(row):\n",
    "    # 将 'EC number' 分割成四个部分\n",
    "    parts = row['EC number'].split('.')\n",
    "    # 创建一个字典\n",
    "    result = {\n",
    "        'EC_number': [f'{parts[0]}',f'{parts[1]}',f'{parts[2]}',f'{parts[3]}'],\n",
    "        'seq': row['Sequence']\n",
    "    }\n",
    "    return result\n",
    "\n",
    "# 取出df中EC1=2的数据\n",
    "df = df[df['EC1'] == '2'].reset_index(drop=True)\n",
    "print(\"扩展前数据的示例：\")\n",
    "print(df.head())\n",
    "print(df.shape)\n",
    "\n",
    "# 扩充训练数据集\n",
    "# 遍历df中的每一个数据，将其扩展为4个数据\n",
    "# 如EC number为2.7.7.6，则扩充为4个数据，分别为2.7.7.6、2.7.7.none、2.7.none.none、2.none.none.none\n",
    "# 创建一个新的 DataFrame 来存储扩展后的数据\n",
    "df_expanded = pd.DataFrame()\n",
    "\n",
    "# 遍历原始 DataFrame 中的每一行\n",
    "for index, row in df.iterrows():\n",
    "    # 获取 EC number\n",
    "    ec_number = row['EC number']\n",
    "    # 将 EC number 分割为四个部分\n",
    "    parts = ec_number.split('.')\n",
    "    # 创建一个列表来存储扩展后的 EC numbers\n",
    "    expanded_ec_numbers = []\n",
    "    for i in range(4):\n",
    "        # 创建一个新的 EC number，其中第 i+1 个及之后的部分都被替换为 'none'\n",
    "        new_ec_number = '.'.join(parts[:i+1] + ['none'] * (3-i))\n",
    "        expanded_ec_numbers.append(new_ec_number)\n",
    "    # 创建一个新的 DataFrame 来存储扩展后的 EC numbers\n",
    "    df_new = pd.DataFrame({'EC number': expanded_ec_numbers})\n",
    "    # 新增一个 'Sequence' 列，并将原始数据的 'Sequence' 复制到新的 DataFrame 中\n",
    "    df_new['Sequence'] = row['Sequence']\n",
    "    # 将新的 DataFrame 添加到 df_expanded 中\n",
    "    df_expanded = pd.concat([df_expanded, df_new])\n",
    "\n",
    "print(\"扩展后数据的示例：\")\n",
    "print(df_expanded.head())\n",
    "print(df_expanded.shape)\n",
    "\n",
    "# df_expanded 重建索引\n",
    "df_expanded = df_expanded.reset_index(drop=True)\n",
    "\n",
    "# 对 df_expanded 应用 convert_row 函数，并将结果转换为字典\n",
    "data = df_expanded.apply(convert_row, axis=1).to_dict()\n",
    "\n",
    "\n",
    "txt_file_path = 'train_data/train_data_EC1=2_v2.txt'\n",
    "pickle_file_path = 'train_data/train_data_EC1=2_v2.p'\n",
    "with open(txt_file_path, 'w') as file:\n",
    "    # 遍历字典的键和值\n",
    "    for key, value in data.items():\n",
    "        # 将键和值写入文件\n",
    "        file.write(f'{key}: {value}\\n')\n",
    "\n",
    "# 并写入.pickle文件\n",
    "with open(pickle_file_path, 'wb') as file:\n",
    "    pickle.dump(data, file)"
   ]
  },
  {
   "cell_type": "markdown",
   "metadata": {},
   "source": [
    "处理训练数据方法二：不进行none标记的填充"
   ]
  },
  {
   "cell_type": "code",
   "execution_count": 25,
   "metadata": {},
   "outputs": [
    {
     "name": "stdout",
     "output_type": "stream",
     "text": [
      "    Entry EC number                                           Sequence EC1  \\\n",
      "0  P51451  2.7.10.2  MGLVSSKKPDKEKPIKEKDKGQWSPLKVSAQDKDAPPLPPLVVFNH...   2   \n",
      "1  Q07457  2.3.2.27  MTAEPATKKIKLELSDPSEPLTQSDVIAFQKEALFRCINRRRVDFE...   2   \n",
      "2  Q3TTA7  2.3.2.27  MANSMNGRNPGGRGGNPRKGRILGIIDAIQDAVGPPKQAAADRRTV...   2   \n",
      "3  P55217  2.5.1.48  MAVSSFQCPTIFSSSSISGFQCRSDPDLVGSPVGGSSRRRVHASAG...   2   \n",
      "4  P10506  2.7.12.2  MFKRRRNPKGLVLNPNASVKSSDNDHKEELINNQKSFESNVEAFME...   2   \n",
      "\n",
      "  EC2 EC3 EC4  \n",
      "0   7  10   2  \n",
      "1   3   2  27  \n",
      "2   3   2  27  \n",
      "3   5   1  48  \n",
      "4   7  12   2  \n",
      "(84117, 7)\n"
     ]
    }
   ],
   "source": [
    "import pickle\n",
    "# 将df数据的EC number转化为标签，并保存到train_data_ec_label.p文件中\n",
    "# 定义一个函数来转换 'EC number' 和 'Sequence' 列\n",
    "def convert_row(row):\n",
    "    # 将 'EC number' 分割成四个部分\n",
    "    parts = row['EC number'].split('.')\n",
    "    # 创建一个字典\n",
    "    result = {\n",
    "        'EC_number': [f'{parts[0]}',f'{parts[1]}',f'{parts[2]}',f'{parts[3]}'],\n",
    "        'seq': row['Sequence']\n",
    "    }\n",
    "    return result\n",
    "\n",
    "# 取出df中EC1=2的数据\n",
    "df = df[df['EC1'] == '2'].reset_index(drop=True)\n",
    "# df 重建索引\n",
    "df = df.reset_index(drop=True)\n",
    "print(df.head())\n",
    "print(df.shape)\n",
    "\n",
    "# 对 df_expanded 应用 convert_row 函数，并将结果转换为字典\n",
    "data = df.apply(convert_row, axis=1).to_dict()\n",
    "\n",
    "\n",
    "txt_file_path = 'train_data/train_data_EC1=2_v2.txt'\n",
    "pickle_file_path = 'train_data/train_data_EC1=2_v2.p'\n",
    "with open(txt_file_path, 'w') as file:\n",
    "    # 遍历字典的键和值\n",
    "    for key, value in data.items():\n",
    "        # 将键和值写入文件\n",
    "        file.write(f'{key}: {value}\\n')\n",
    "\n",
    "# 并写入.pickle文件\n",
    "with open(pickle_file_path, 'wb') as file:\n",
    "    pickle.dump(data, file)"
   ]
  },
  {
   "cell_type": "markdown",
   "metadata": {},
   "source": [
    "## (5). 创建EC lable和ctrl code的映射文件first_level_to_ctrl.p"
   ]
  },
  {
   "cell_type": "code",
   "execution_count": 16,
   "metadata": {},
   "outputs": [
    {
     "name": "stdout",
     "output_type": "stream",
     "text": [
      "{'none': 0, '1': 1, '2': 2, '3': 3, '4': 4, '5': 5, '6': 6, '7': 7, '8': 8, '9': 9, '10': 10, '11': 11, '12': 12, '13': 13, '14': 14, '15': 15, '16': 16, '17': 17, '18': 18, '19': 19, '20': 20, '21': 21, '22': 22, '23': 23, '24': 24, '25': 25, '26': 26, '27': 27, '28': 28, '29': 29, '30': 30, '31': 31, '32': 32, '33': 33, '34': 34, '35': 35, '36': 36, '37': 37, '38': 38, '39': 39, '40': 40, '41': 41, '42': 42, '43': 43, '44': 44, '45': 45, '46': 46, '47': 47, '48': 48, '49': 49, '50': 50, '51': 51, '52': 52, '53': 53, '54': 54, '55': 55, '56': 56, '57': 57, '58': 58, '59': 59, '60': 60, '61': 61, '62': 62, '63': 63, '64': 64, '65': 65, '66': 66, '67': 67, '68': 68, '69': 69, '70': 70, '71': 71, '72': 72, '73': 73, '74': 74, '75': 75, '76': 76, '77': 77, '78': 78, '79': 79, '80': 80, '81': 81, '82': 82, '83': 83, '84': 84, '85': 85, '86': 86, '87': 87, '88': 88, '89': 89, '90': 90, '91': 91, '92': 92, '93': 93, '94': 94, '95': 95, '96': 96, '97': 97, '98': 98, '99': 99, '100': 100, '101': 101, '102': 102, '103': 103, '104': 104, '105': 105, '106': 106, '107': 107, '108': 108, '109': 109, '110': 110, '111': 111, '112': 112, '113': 113, '114': 114, '115': 115, '116': 116, '117': 117, '118': 118, '119': 119, '120': 120, '121': 121, '122': 122, '123': 123, '124': 124, '125': 125, '126': 126, '127': 127, '128': 128, '129': 129, '130': 130, '131': 131, '132': 132, '133': 133, '134': 134, '135': 135, '136': 136, '137': 137, '138': 138, '139': 139, '140': 140, '141': 141, '142': 142, '143': 143, '144': 144, '145': 145, '146': 146, '147': 147, '148': 148, '149': 149, '150': 150, '151': 151, '152': 152, '153': 153, '154': 154, '155': 155, '156': 156, '157': 157, '158': 158, '159': 159, '160': 160, '161': 161, '162': 162, '163': 163, '164': 164, '165': 165, '166': 166, '167': 167, '168': 168, '169': 169, '170': 170, '171': 171, '172': 172, '173': 173, '174': 174, '175': 175, '176': 176, '177': 177, '178': 178, '179': 179, '180': 180, '181': 181, '182': 182, '183': 183, '184': 184, '185': 185, '186': 186, '187': 187, '188': 188, '189': 189, '190': 190, '191': 191, '192': 192, '193': 193, '194': 194, '195': 195, '196': 196, '197': 197, '198': 198, '199': 199, '200': 200, '201': 201, '202': 202, '203': 203, '204': 204, '205': 205, '206': 206, '207': 207, '208': 208, '209': 209, '210': 210, '211': 211, '212': 212, '213': 213, '214': 214, '215': 215, '216': 216, '217': 217, '218': 218, '219': 219, '220': 220, '221': 221, '222': 222, '223': 223, '224': 224, '225': 225, '226': 226, '227': 227, '228': 228, '229': 229, '230': 230, '231': 231, '232': 232, '233': 233, '234': 234, '235': 235, '236': 236, '237': 237, '238': 238, '239': 239, '240': 240, '241': 241, '242': 242, '243': 243, '244': 244, '245': 245, '246': 246, '247': 247, '248': 248, '249': 249, '250': 250, '251': 251, '252': 252, '253': 253, '254': 254, '255': 255, '256': 256, '257': 257, '258': 258, '259': 259, '260': 260, '261': 261, '262': 262, '263': 263, '264': 264, '265': 265, '266': 266, '267': 267, '268': 268, '269': 269, '270': 270, '271': 271, '272': 272, '273': 273, '274': 274, '275': 275, '276': 276, '277': 277, '278': 278, '279': 279, '280': 280, '281': 281, '282': 282, '283': 283, '284': 284, '285': 285, '286': 286, '287': 287, '288': 288, '289': 289, '290': 290, '291': 291, '292': 292, '293': 293, '294': 294, '295': 295, '296': 296, '297': 297, '298': 298, '299': 299, '300': 300, '301': 301, '302': 302, '303': 303, '304': 304, '305': 305, '306': 306, '307': 307, '308': 308, '309': 309, '310': 310, '311': 311, '312': 312, '313': 313, '314': 314, '315': 315, '316': 316, '317': 317, '318': 318, '319': 319, '320': 320, '321': 321, '322': 322, '323': 323, '324': 324, '325': 325, '326': 326, '327': 327, '328': 328, '329': 329, '330': 330, '331': 331, '332': 332, '333': 333, '334': 334, '335': 335, '336': 336, '337': 337, '338': 338, '339': 339, '340': 340, '341': 341, '342': 342, '343': 343, '344': 344, '345': 345, '346': 346, '347': 347, '348': 348, '349': 349, '350': 350, '351': 351, '352': 352, '353': 353, '354': 354, '355': 355, '356': 356, '357': 357, '358': 358, '359': 359, '360': 360, '361': 361, '362': 362, '363': 363, '364': 364, '365': 365, '366': 366, '367': 367, '368': 368, '369': 369, '370': 370, '371': 371, '372': 372, '373': 373, '374': 374, '375': 375, '376': 376, '377': 377, '378': 378, '379': 379, '380': 380, '381': 381, '382': 382, '383': 383, '384': 384, '385': 385, '386': 386, '387': 387, '388': 388, '389': 389, '390': 390, '391': 391, '392': 392, '393': 393, '394': 394, '395': 395, '396': 396, '397': 397, '398': 398, '399': 399, '400': 400, '401': 401, '402': 402, '403': 403, '404': 404, '405': 405, '406': 406, '407': 407, '408': 408, '409': 409, '410': 410, '411': 411, '412': 412, '413': 413, '414': 414, '415': 415, '416': 416, '417': 417, '418': 418, '419': 419, '420': 420, '421': 421, '422': 422, '423': 423, '424': 424, 'n1': 425, 'n2': 426, 'n3': 427, 'n4': 428, 'n5': 429, 'n6': 430, 'n7': 431, 'n8': 432, 'n9': 433, 'n10': 434, 'n11': 435, 'n12': 436, 'STOP': 437, 'PAD': 129406}\n"
     ]
    }
   ],
   "source": [
    "label_dict = {}\n",
    "label_dict['none'] = 0\n",
    "start_code = 1\n",
    "# 使用 for 循环和 range 函数来生成键和值\n",
    "for i in range(1, 425):\n",
    "    key = f'{i}'\n",
    "    label_dict[key] = start_code\n",
    "    start_code += 1\n",
    "\n",
    "# 补充缺失的键值对\n",
    "label_dict['n1'] = start_code\n",
    "start_code += 1\n",
    "label_dict['n2'] = start_code\n",
    "start_code += 1\n",
    "label_dict['n3'] = start_code\n",
    "start_code += 1\n",
    "label_dict['n4'] = start_code\n",
    "start_code += 1\n",
    "label_dict['n5'] = start_code\n",
    "start_code += 1\n",
    "label_dict['n6'] = start_code\n",
    "start_code += 1\n",
    "label_dict['n7'] = start_code\n",
    "start_code += 1\n",
    "label_dict['n8'] = start_code\n",
    "start_code += 1\n",
    "label_dict['n9'] = start_code\n",
    "start_code += 1\n",
    "label_dict['n10'] = start_code\n",
    "start_code += 1\n",
    "label_dict['n11'] = start_code\n",
    "start_code += 1\n",
    "label_dict['n12'] = start_code\n",
    "start_code += 1\n",
    "label_dict['STOP'] = start_code\n",
    "start_code += 1\n",
    "label_dict['PAD'] = 129406\n",
    "print(label_dict)\n",
    "# 文件路径\n",
    "file_path = 'mapping_files/ec_level_to_ctrl_v2.p'\n",
    "# 将所有的标签整理到一个字典中\n",
    "txt_file_path = 'mapping_files/ec_level_to_ctrl_v2.txt'\n",
    "pickle_file_path = 'mapping_files/ec_level_to_ctrl_v2.p'\n",
    "# 创建.p文件\n",
    "# 以增加模式打开文件\n",
    "with open(txt_file_path, 'w') as file:\n",
    "    # 遍历字典的键和值\n",
    "    for key, value in label_dict.items():\n",
    "        # 将键和值写入文件\n",
    "        file.write(f'{key}: {value}\\n')\n",
    "\n",
    "# 并写入.pickle文件\n",
    "with open(pickle_file_path, 'wb') as file:\n",
    "    pickle.dump(label_dict, file)\n"
   ]
  },
  {
   "cell_type": "code",
   "execution_count": 33,
   "metadata": {},
   "outputs": [
    {
     "name": "stdout",
     "output_type": "stream",
     "text": [
      "3\n"
     ]
    }
   ],
   "source": [
    "import random\n",
    "label_num = random.randint(1,4)\n",
    "print(label_num)"
   ]
  }
 ],
 "metadata": {
  "kernelspec": {
   "display_name": "progen",
   "language": "python",
   "name": "python3"
  },
  "language_info": {
   "codemirror_mode": {
    "name": "ipython",
    "version": 3
   },
   "file_extension": ".py",
   "mimetype": "text/x-python",
   "name": "python",
   "nbconvert_exporter": "python",
   "pygments_lexer": "ipython3",
   "version": "3.9.17"
  }
 },
 "nbformat": 4,
 "nbformat_minor": 2
}
